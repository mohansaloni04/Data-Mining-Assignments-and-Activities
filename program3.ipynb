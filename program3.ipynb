{
 "cells": [
  {
   "cell_type": "code",
   "execution_count": null,
   "metadata": {
    "collapsed": true
   },
   "outputs": [],
   "source": [
    "#import the required libraries\n",
    "import numpy as np\n",
    "from collections import defaultdict\n",
    "from collections import Counter\n",
    "from scipy.sparse import csr_matrix, find"
   ]
  },
  {
   "cell_type": "code",
   "execution_count": null,
   "metadata": {
    "collapsed": true
   },
   "outputs": [],
   "source": [
    "#read the file and calculate CSR matrix\n",
    "def csr_read(fname, ftype=\"csr\", nidx=1):\n",
    "    r\"\"\" \n",
    "        Read CSR matrix from a text file. \n",
    "        \n",
    "        \\param fname File name for CSR/CLU matrix\n",
    "        \\param ftype Input format. Acceptable formats are:\n",
    "            - csr - Compressed sparse row\n",
    "            - clu - Cluto format, i.e., CSR + header row with \"nrows ncols nnz\"\n",
    "        \\param nidx Indexing type in CSR file. What does numbering of feature IDs start with?\n",
    "    \"\"\"\n",
    "    \n",
    "    with open(fname) as f:\n",
    "        lines = f.readlines()\n",
    "    \n",
    "    if ftype == \"clu\":\n",
    "        p = lines[0].split()\n",
    "        nrows = int(p[0])\n",
    "        ncols = int(p[1])\n",
    "        nnz = long(p[2])\n",
    "        lines = lines[1:]\n",
    "        assert(len(lines) == nrows)\n",
    "    elif ftype == \"csr\":\n",
    "        nrows = len(lines)\n",
    "        ncols = 0 \n",
    "        nnz = 0 \n",
    "        for i in xrange(nrows):\n",
    "            p = lines[i].split()\n",
    "            if len(p) % 2 != 0:\n",
    "                raise ValueError(\"Invalid CSR matrix. Row %d contains %d numbers.\" % (i, len(p)))\n",
    "            nnz += len(p)/2\n",
    "            for j in xrange(0, len(p), 2): \n",
    "                cid = int(p[j]) - nidx\n",
    "                if cid+1 > ncols:\n",
    "                    ncols = cid+1\n",
    "    else:\n",
    "        raise ValueError(\"Invalid sparse matrix ftype '%s'.\" % ftype)\n",
    "    val = np.zeros(nnz, dtype=np.float)\n",
    "    ind = np.zeros(nnz, dtype=np.int)\n",
    "    ptr = np.zeros(nrows+1, dtype=np.long)\n",
    "    n = 0 \n",
    "    for i in xrange(nrows):\n",
    "        p = lines[i].split()\n",
    "        for j in xrange(0, len(p), 2): \n",
    "            ind[n] = int(p[j]) - nidx\n",
    "            val[n] = float(p[j+1])\n",
    "            n += 1\n",
    "        ptr[i+1] = n \n",
    "    \n",
    "    assert(n == nnz)\n",
    "    \n",
    "    mat = csr_matrix((val, ind, ptr), shape=(nrows, ncols), dtype=np.float)\n",
    "    mat.sort_indices()\n",
    "    return mat"
   ]
  },
  {
   "cell_type": "code",
   "execution_count": null,
   "metadata": {
    "collapsed": true
   },
   "outputs": [],
   "source": [
    "fname1 = \"train.dat\""
   ]
  },
  {
   "cell_type": "code",
   "execution_count": null,
   "metadata": {},
   "outputs": [],
   "source": [
    "csr_read(fname1)"
   ]
  },
  {
   "cell_type": "code",
   "execution_count": null,
   "metadata": {
    "collapsed": true
   },
   "outputs": [],
   "source": [
    "mat = csr_read(fname1, ftype=\"csr\", nidx=1)"
   ]
  },
  {
   "cell_type": "code",
   "execution_count": null,
   "metadata": {
    "collapsed": true
   },
   "outputs": [],
   "source": [
    "#Calculate IDF and then do L2 normalization on the same\n",
    "def csr_idf(mat, copy=False, **kargs):\n",
    "    r\"\"\" Scale a CSR matrix by idf. \n",
    "    Returns scaling factors as dict. If copy is True, \n",
    "    returns scaled matrix and scaling factors.\n",
    "    \"\"\"\n",
    "    if copy is True:\n",
    "        mat = mat.copy()\n",
    "    nrows = mat.shape[0]\n",
    "    nnz = mat.nnz\n",
    "    ind, val, ptr = mat.indices, mat.data, mat.indptr\n",
    "    # document frequency\n",
    "    df = defaultdict(int)\n",
    "    for i in ind:\n",
    "        df[i] += 1\n",
    "    # inverse document frequency\n",
    "    for k,v in df.items():\n",
    "        df[k] = np.log(nrows / float(v))  ## df turns to idf - reusing memory\n",
    "    # scale by idf\n",
    "    for i in range(0, nnz):\n",
    "        val[i] *= df[ind[i]]\n",
    "        \n",
    "    return df if copy is False else mat\n",
    "\n",
    "def csr_l2normalize(mat, copy=False, **kargs):\n",
    "    r\"\"\" Normalize the rows of a CSR matrix by their L-2 norm. \n",
    "    If copy is True, returns a copy of the normalized matrix.\n",
    "    \"\"\"\n",
    "    if copy is True:\n",
    "        mat = mat.copy()\n",
    "    nrows = mat.shape[0]\n",
    "    nnz = mat.nnz\n",
    "    ind, val, ptr = mat.indices, mat.data, mat.indptr\n",
    "    # normalize\n",
    "    for i in range(nrows):\n",
    "        rsum = 0.0    \n",
    "        for j in range(ptr[i], ptr[i+1]):\n",
    "            rsum += val[j]**2\n",
    "        if rsum == 0.0:\n",
    "            continue  # do not normalize empty rows\n",
    "        rsum = float(1.0/np.sqrt(rsum))\n",
    "        for j in range(ptr[i], ptr[i+1]):\n",
    "            val[j] *= rsum\n",
    "            \n",
    "    if copy is True:\n",
    "        return mat"
   ]
  },
  {
   "cell_type": "code",
   "execution_count": null,
   "metadata": {
    "collapsed": true
   },
   "outputs": [],
   "source": [
    "mat2 = csr_idf(mat, copy=True)\n",
    "mat3 = csr_l2normalize(mat2, copy=True)"
   ]
  },
  {
   "cell_type": "code",
   "execution_count": null,
   "metadata": {},
   "outputs": [],
   "source": [
    "print mat3.shape"
   ]
  },
  {
   "cell_type": "code",
   "execution_count": null,
   "metadata": {
    "collapsed": true
   },
   "outputs": [],
   "source": [
    "#choosing of two random numbers for centroid\n",
    "from sklearn.utils import shuffle\n",
    "import random\n",
    "def inCentroids(y, k):\n",
    "    y_shuffle = shuffle(y, random_state=0)\n",
    "    return y_shuffle[:k,:]"
   ]
  },
  {
   "cell_type": "code",
   "execution_count": null,
   "metadata": {
    "collapsed": true
   },
   "outputs": [],
   "source": [
    "#calculation of cosine similarity between other points and centroid\n",
    "def cos_sim(y1, y2):\n",
    "    cos_sims = y1.dot(y2.T)\n",
    "    return cos_sims"
   ]
  },
  {
   "cell_type": "code",
   "execution_count": null,
   "metadata": {
    "collapsed": true
   },
   "outputs": [],
   "source": [
    "#assigning of points to a particular centroid\n",
    "def cent_find(mat, centroids):\n",
    "    index = list()\n",
    "    cos_simsMat = sim(mat, centroids)\n",
    "\n",
    "    for i in range(cos_simsMat.shape[0]):\n",
    "        row = cos_simsMat.getrow(i).toarray()[0].ravel()\n",
    "        top_indices = row.argsort()[-1]\n",
    "        top_values = row[row.argsort()[-1]]\n",
    "        index.append(top_indices + 1)\n",
    "    return idx"
   ]
  },
  {
   "cell_type": "code",
   "execution_count": null,
   "metadata": {
    "collapsed": true
   },
   "outputs": [],
   "source": [
    "#recalculation of centre of each group\n",
    "def means_cal(mat, index, k):\n",
    "    centroids = list()\n",
    "    for i in range(1,k+1):\n",
    "        dex = [j for j, y in enumerate(idx) if y == i]\n",
    "        if (part.shape[0] > 1):\n",
    "            centroids.append(part.toarray().mean(0))\n",
    "    csr_center = csr_matrix(centroids)\n",
    "    return csr_center"
   ]
  },
  {
   "cell_type": "code",
   "execution_count": null,
   "metadata": {
    "collapsed": true
   },
   "outputs": [],
   "source": [
    "#implementation of Kmeans algorithm\n",
    "from sklearn.cluster import KMeans\n",
    "def kmeans(k, mat, iterations):\n",
    "    centroids = inCentroids(mat, k)\n",
    "    for _ in range(iterations): \n",
    "        index = cent_find(mat, centroids)            \n",
    "        centroids = means_cal(mat, index, k)        \n",
    "    return index"
   ]
  },
  {
   "cell_type": "code",
   "execution_count": null,
   "metadata": {
    "collapsed": true
   },
   "outputs": [],
   "source": [
    "#code for bisecting kmeans implementation\n",
    "def bisectingKmeans(matrix, kclusters):\n",
    "    init_cluster = []\n",
    "    init_cluster.append(matrix)\n",
    "    clusterindex = []\n",
    "    for i in range(0, matrix.shape[0]):\n",
    "       \n",
    "        clusterindex.append(1)\n",
    "    cid = 1\n",
    "    for i in range(1, 7):\n",
    "       \n",
    "        index_track = []\n",
    "        target_list = []\n",
    "\n",
    "        for j in range(0, len(clusterindex)):\n",
    "            \n",
    "            if(clusterindex[j] == cid):\n",
    "                \n",
    "                target_list.append(matrix[j,:].toarray()[0])\n",
    "                index_track.append(j)\n",
    "            elif(clusterindex[j] > cid):\n",
    "                 clusterindex[j] = clusterindex[j]+1\n",
    "       \n",
    "        target_mat = csr_matrix(target_list)\n",
    "        \n",
    "        processed_index = kmeans(7,target_mat, 20)\n",
    "        \n",
    "        for z in range(len(processed_index)):\n",
    "            \n",
    "            if(processed_index[z] == 2):\n",
    "                \n",
    "                clusterindex[index_track[z]] = cid + 1\n",
    "        \n",
    "       \n",
    "        temp = []\n",
    "        for k in range(0, i+1):\n",
    "           \n",
    "            temp.append(0)\n",
    "      \n",
    "        for j in range(0, len(clusterindex)):\n",
    "            \n",
    "            clusterIndex = clusterindex[j] - 1;\n",
    "            temp[clusterIndex] = temp[clusterIndex] + 1\n",
    "        \n",
    "        max = temp[0]\n",
    "        cid = 1\n",
    "       \n",
    "        for k in range(1, i+1):\n",
    "            if (temp[k] > max):\n",
    "                \n",
    "                cid = k + 1\n",
    "        \n",
    "    return clusterindex "
   ]
  },
  {
   "cell_type": "code",
   "execution_count": null,
   "metadata": {},
   "outputs": [],
   "source": [
    "#calling Bisecting kmeans\n",
    "bisectingKmeans(mat3, 2)"
   ]
  },
  {
   "cell_type": "code",
   "execution_count": null,
   "metadata": {
    "scrolled": true
   },
   "outputs": [],
   "source": [
    "from sklearn.metrics.cluster import normalized_mutual_info_score\n",
    "from sklearn.metrics import calinski_harabaz_score\n",
    "x_axis = list()\n",
    "y_axis = list()\n",
    "for k in range(3, 22, 2):\n",
    "    idx = kmeans(k, mat3, 10)\n",
    "    score = calinski_harabaz_score(mat3.toarray(), idx)\n",
    "    print k, score\n",
    "    x_axis.append(k)\n",
    "    y_axis.append(score)"
   ]
  },
  {
   "cell_type": "code",
   "execution_count": null,
   "metadata": {
    "collapsed": true
   },
   "outputs": [],
   "source": [
    "file_t = open(\"format.dat\", \"w\")\n",
    "for i in idx:\n",
    "    \n",
    "    file_t.write(str(i) +'\\n')\n",
    "file_t.close()"
   ]
  },
  {
   "cell_type": "code",
   "execution_count": null,
   "metadata": {
    "collapsed": true
   },
   "outputs": [],
   "source": [
    "import matplotlib.pyplot as plt\n",
    "%matplotlib inline"
   ]
  },
  {
   "cell_type": "code",
   "execution_count": null,
   "metadata": {},
   "outputs": [],
   "source": [
    "plt.plot(x_axis, y_axis )"
   ]
  },
  {
   "cell_type": "code",
   "execution_count": null,
   "metadata": {
    "collapsed": true
   },
   "outputs": [],
   "source": []
  }
 ],
 "metadata": {
  "kernelspec": {
   "display_name": "Python 2",
   "language": "python",
   "name": "python2"
  },
  "language_info": {
   "codemirror_mode": {
    "name": "ipython",
    "version": 2
   },
   "file_extension": ".py",
   "mimetype": "text/x-python",
   "name": "python",
   "nbconvert_exporter": "python",
   "pygments_lexer": "ipython2",
   "version": "2.7.13"
  }
 },
 "nbformat": 4,
 "nbformat_minor": 2
}
